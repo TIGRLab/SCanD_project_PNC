{
 "cells": [
  {
   "cell_type": "code",
   "execution_count": null,
   "metadata": {},
   "outputs": [],
   "source": [
    "from IPython.display import SVG, display\n",
    "from glob import glob"
   ]
  },
  {
   "cell_type": "code",
   "execution_count": null,
   "metadata": {},
   "outputs": [],
   "source": [
    "ls /scratch/a/arisvoin/clarasun/SCanD_project_PNC/data/share/fmriprep/sub-602885763650/figures/sub-*_task-rest_desc-bbregister_bold.svg"
   ]
  },
  {
   "cell_type": "code",
   "execution_count": null,
   "metadata": {},
   "outputs": [],
   "source": [
    "'''\n",
    "fMRIprep FUNCTIONAL \n",
    "'''"
   ]
  },
  {
   "cell_type": "code",
   "execution_count": null,
   "metadata": {},
   "outputs": [],
   "source": [
    "'''\n",
    "Alignment of functional and anatomical MRI data (surface driven)\n",
    "'''\n",
    "func_image1 = sorted(glob('/scratch/a/arisvoin/clarasun/SCanD_project_PNC/data/share/fmriprep/sub-*/figures/sub-*_task-rest_desc-bbregister_bold.svg'))\n",
    "# extracts all func EPI to T1W bold images"
   ]
  },
  {
   "cell_type": "code",
   "execution_count": null,
   "metadata": {},
   "outputs": [],
   "source": [
    "'''\n",
    "Brain mask and (anatomical/temporal) CompCor ROIs\n",
    "'''\n",
    "func_image2 = sorted(glob('/scratch/a/arisvoin/clarasun/SCanD_project_PNC/data/share/fmriprep/sub-*/figures/sub-*_task-rest_desc-rois_bold.svg'))\n",
    "# extracts all func EPI to T1W bold images"
   ]
  },
  {
   "cell_type": "code",
   "execution_count": null,
   "metadata": {},
   "outputs": [],
   "source": [
    "'''\n",
    "Susceptibility Distortion Correction - results of performing SDC on the EPI\n",
    "'''\n",
    "func_image3 = sorted(glob('/scratch/a/arisvoin/clarasun/SCanD_project_PNC/data/share/fmriprep/sub-*/figures/sub-*_task-rest_desc-sdc_bold.svg'))\n",
    "# extracts all func SDC bold images"
   ]
  },
  {
   "cell_type": "code",
   "execution_count": null,
   "metadata": {},
   "outputs": [],
   "source": [
    "func_image1"
   ]
  },
  {
   "cell_type": "code",
   "execution_count": null,
   "metadata": {},
   "outputs": [],
   "source": [
    "for img in func_image3[0:5]:\n",
    "    print(img)\n",
    "    display(SVG(img))\n",
    "    print(\"\")\n",
    "    print(\"\")"
   ]
  },
  {
   "cell_type": "code",
   "execution_count": null,
   "metadata": {},
   "outputs": [],
   "source": [
    "# pip install beampy \n",
    "# unable to install beampy\n",
    "# attempted to install beampy in order to view svg files as animations instead of static view"
   ]
  },
  {
   "cell_type": "code",
   "execution_count": null,
   "metadata": {},
   "outputs": [],
   "source": [
    "# https://hchauvet.github.io/beampy/\n",
    "\n",
    "from beampy import *\n",
    "\n",
    "#Remove quiet=True to get beampy compilation outputs\n",
    "\n",
    "doc = document(quiet=True)\n",
    "\n",
    "\n",
    "animatesvg(\"/scratch/a/arisvoin/clarasun/SCanD_project_PNC/data/share/fmriprep/sub-600020927179/figures/sub-600020927179_task-rest_desc-sdc_bold.svg\")"
   ]
  },
  {
   "cell_type": "code",
   "execution_count": null,
   "metadata": {},
   "outputs": [],
   "source": [
    "for img in func_image3[0:50]:\n",
    "    print(img)\n",
    "    display(SVG(img))\n",
    "    print(\"\")\n",
    "    print(\"\")"
   ]
  },
  {
   "cell_type": "code",
   "execution_count": null,
   "metadata": {},
   "outputs": [],
   "source": [
    "# from IPython.display import display, HTML"
   ]
  },
  {
   "cell_type": "code",
   "execution_count": null,
   "metadata": {},
   "outputs": [],
   "source": [
    "ls /scratch/a/arisvoin/clarasun/SCanD_project_PNC/data/share/fmriprep/sub-602885763650/figures/sub-*_dseg.svg"
   ]
  },
  {
   "cell_type": "code",
   "execution_count": null,
   "metadata": {},
   "outputs": [],
   "source": [
    "'''\n",
    "fmriPrep ANATOMICAL\n",
    "'''"
   ]
  },
  {
   "cell_type": "code",
   "execution_count": null,
   "metadata": {},
   "outputs": [],
   "source": [
    "'''\n",
    "Brain mask and brain tissue segmentation of the T1w\n",
    "'''\n",
    "anat_image1 = sorted(glob('/scratch/a/arisvoin/clarasun/SCanD_project_PNC/data/share/fmriprep/sub-*/figures/sub-*_dseg.svg'))\n",
    "# shows the template T1-weighted image with contours delineating the detected brain mask and brain tissue segmentations"
   ]
  },
  {
   "cell_type": "code",
   "execution_count": null,
   "metadata": {},
   "outputs": [],
   "source": [
    "'''\n",
    "Surface reconstruction\n",
    "'''\n",
    "anat_image2 = sorted(glob('/scratch/a/arisvoin/clarasun/SCanD_project_PNC/data/share/fmriprep/sub-*/figures/sub-*_desc-reconall_T1w.svg'))\n",
    "# Surfaces (white and pial) reconstructed with FreeSurfer recon-all overlaid on the participant's T1w template"
   ]
  },
  {
   "cell_type": "code",
   "execution_count": null,
   "metadata": {},
   "outputs": [],
   "source": [
    "for img in anat_image1[0:50]:\n",
    "    print(img)\n",
    "    display(SVG(img))\n",
    "    print(\"\")\n",
    "    print(\"\")"
   ]
  },
  {
   "cell_type": "code",
   "execution_count": null,
   "metadata": {},
   "outputs": [],
   "source": [
    "# looking for subjects who are missing func folders"
   ]
  },
  {
   "cell_type": "code",
   "execution_count": null,
   "metadata": {},
   "outputs": [],
   "source": [
    "import os"
   ]
  },
  {
   "cell_type": "code",
   "execution_count": null,
   "metadata": {},
   "outputs": [],
   "source": [
    "## SOLUTION ##\n",
    "# only looks at nested folder depth of one below sub-* \n",
    "\n",
    "base_dir = '/scratch/a/arisvoin/clarasun/SCanD_project_PNC/data/local/bids'\n",
    "\n",
    "# Initialize an empty list to store missing subject IDs\n",
    "missing_subjects_new = []\n",
    "\n",
    "# Iterate through all the \"sub-\" folders in the specified path\n",
    "for sub_dir in os.listdir(base_dir):\n",
    "    if sub_dir.startswith('sub-'):\n",
    "        sub_path = os.path.join(base_dir, sub_dir)\n",
    "        func_path = os.path.join(sub_path, 'func')\n",
    "   \n",
    "    # check if the \"func\" folder is missing\n",
    "    if not os.path.exists(func_path):\n",
    "            missing_subjects_new.append(sub_dir) # if it is missing, add the subject ID to the list\n",
    "            \n",
    "            "
   ]
  },
  {
   "cell_type": "code",
   "execution_count": null,
   "metadata": {},
   "outputs": [],
   "source": [
    "len(missing_subjects_new)"
   ]
  },
  {
   "cell_type": "code",
   "execution_count": null,
   "metadata": {},
   "outputs": [],
   "source": [
    "# Write the missing subject IDs to a text file\n",
    "with open('missing_subjects.txt', 'w') as f:\n",
    "    for subject_id in missing_subjects_new:\n",
    "        f.write(subject_id + '\\n')\n",
    "\n",
    "print(\"List of missing subjects has been saved to 'missing_subjects.txt'\")"
   ]
  },
  {
   "cell_type": "code",
   "execution_count": null,
   "metadata": {},
   "outputs": [],
   "source": [
    "# Write the missing subject IDs to a TSV file\n",
    "tsv_file_path = 'missing_subjects.tsv'\n",
    "with open(tsv_file_path, 'w') as f:\n",
    "    f.write(\"Subject_ID\\tMissing_Func\\n\")  # Write header\n",
    "    for subject_id in missing_subjects_new:\n",
    "        f.write(f\"{subject_id}\\tYes\\n\")\n",
    "\n",
    "print(f\"List of missing subjects has been saved to '{tsv_file_path}'\")"
   ]
  },
  {
   "cell_type": "code",
   "execution_count": null,
   "metadata": {},
   "outputs": [],
   "source": [
    "# EDITED Write the missing subject IDs to a TSV file\n",
    "tsv_file_path = 'missing_subjects.tsv'\n",
    "with open(tsv_file_path, 'w') as f:\n",
    "    f.write(\"participant_id\\n\")  # Write header\n",
    "    for participant_id in missing_subjects_new:\n",
    "        f.write(participant_id + '\\n')\n",
    "\n",
    "print(f\"List of missing subjects has been saved to '{tsv_file_path}'\")"
   ]
  },
  {
   "cell_type": "code",
   "execution_count": null,
   "metadata": {},
   "outputs": [],
   "source": [
    "# EDITED Write the missing subject IDs to a TSV file\n",
    "tsv_file_path = 'missing_func.tsv'\n",
    "with open(tsv_file_path, 'w') as f:\n",
    "    f.write(\"participant_id\\n\")  # Write header\n",
    "    for participant_id in missing_subjects_new:\n",
    "        f.write(participant_id + '\\n')\n",
    "\n",
    "print(f\"List of missing subjects has been saved to '{tsv_file_path}'\")"
   ]
  },
  {
   "cell_type": "code",
   "execution_count": null,
   "metadata": {},
   "outputs": [],
   "source": [
    "# Create a new tsv file that contains only subjects that:\n",
    "# (1) are missing qc_fmri outputs, AND\n",
    "# (2) have \"func\" nested folders in bids\n",
    "\n"
   ]
  },
  {
   "cell_type": "code",
   "execution_count": null,
   "metadata": {},
   "outputs": [],
   "source": [
    "# Read the missing_subjects.tsv and store the IDs in a set\n",
    "missing_subject_ids = set()\n",
    "with open('missing_subjects.tsv', 'r') as missing_file:\n",
    "    for line in missing_file:\n",
    "        missing_subject_ids.add(line.strip())"
   ]
  },
  {
   "cell_type": "code",
   "execution_count": null,
   "metadata": {},
   "outputs": [],
   "source": [
    "# Define the path to the 'no_qc_fmri.tsv' file\n",
    "no_qc_fmri_path = '/scratch/a/arisvoin/clarasun/SCanD_project_PNC/data/local/bids/no_qc_fmri.tsv'"
   ]
  },
  {
   "cell_type": "code",
   "execution_count": null,
   "metadata": {},
   "outputs": [],
   "source": [
    "# Define the path for the new merged TSV file\n",
    "merged_tsv_path = '/scratch/a/arisvoin/clarasun/SCanD_project_PNC/data/local/bids/new_no_qc_fmri.tsv'"
   ]
  },
  {
   "cell_type": "code",
   "execution_count": null,
   "metadata": {},
   "outputs": [],
   "source": [
    "# Read 'no_qc_fmri.tsv', filter out rows with missing Subject IDs, and write to the new TSV file\n",
    "with open(no_qc_fmri_path, 'r') as input_file, open(merged_tsv_path, 'w') as output_file:\n",
    "    for line in input_file:\n",
    "        subject_id = line.split('\\t')[0]  # Assuming Subject ID is in the first column\n",
    "        if subject_id not in missing_subject_ids:\n",
    "            output_file.write(line)\n",
    "            \n",
    "print(f\"Merged TSV file has been created: '{merged_tsv_path}'\")"
   ]
  },
  {
   "cell_type": "code",
   "execution_count": null,
   "metadata": {},
   "outputs": [],
   "source": [
    "### ALTERNATE METHOD OF MERGING ###"
   ]
  },
  {
   "cell_type": "code",
   "execution_count": null,
   "metadata": {},
   "outputs": [],
   "source": [
    "import pandas as pd"
   ]
  },
  {
   "cell_type": "code",
   "execution_count": null,
   "metadata": {},
   "outputs": [],
   "source": [
    "tsv1 = pd.read_csv('/scratch/a/arisvoin/clarasun/SCanD_project_PNC/data/local/bids/no_qc_fmri.tsv', sep='\\t')\n",
    "tsv2 = pd.read_csv('/scratch/a/arisvoin/clarasun/SCanD_project_PNC/data/local/bids/missing_func.tsv', sep='\\t')\n"
   ]
  },
  {
   "cell_type": "code",
   "execution_count": null,
   "metadata": {},
   "outputs": [],
   "source": [
    "## THIS METHOD DOES NOT WORK ##\n",
    "# does not work if there is only one column of data \n",
    "# use the filtering method below instead\n",
    "\n",
    "output = pd.merge(tsv1, tsv2, on='participant_id', how='left')\n",
    "print(output)\n",
    "# merge the two tsv files to create a new file that contains:\n",
    "# all subject folders that are in no_qc_fmri and NOT in missing_func.tsv\n"
   ]
  },
  {
   "cell_type": "code",
   "execution_count": null,
   "metadata": {},
   "outputs": [],
   "source": [
    "# filter tsv1 to exclude rows with participant_id present in tsv2\n",
    "filtered_tsv1 = tsv1[~tsv1['participant_id'].isin(tsv2['participant_id'])]\n"
   ]
  },
  {
   "cell_type": "code",
   "execution_count": null,
   "metadata": {},
   "outputs": [],
   "source": [
    "print(filtered_tsv1)"
   ]
  },
  {
   "cell_type": "code",
   "execution_count": null,
   "metadata": {},
   "outputs": [],
   "source": [
    "# save the filtered data frame to a new tsv file\n",
    "\n",
    "filtered_tsv1.to_csv('new_no_qc_fmri.tsv', sep='\\t', index=False)\n",
    "\n",
    "print(\"Filtered TSV file has been created: 'new_no_qc_fmri.tsv'\")"
   ]
  },
  {
   "cell_type": "code",
   "execution_count": null,
   "metadata": {},
   "outputs": [],
   "source": []
  }
 ],
 "metadata": {
  "kernelspec": {
   "display_name": "Python 3",
   "language": "python",
   "name": "python3"
  },
  "language_info": {
   "codemirror_mode": {
    "name": "ipython",
    "version": 3
   },
   "file_extension": ".py",
   "mimetype": "text/x-python",
   "name": "python",
   "nbconvert_exporter": "python",
   "pygments_lexer": "ipython3",
   "version": "3.8.5"
  }
 },
 "nbformat": 4,
 "nbformat_minor": 4
}
