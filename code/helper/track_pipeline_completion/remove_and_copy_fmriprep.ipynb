{
 "cells": [
  {
   "cell_type": "code",
   "execution_count": null,
   "metadata": {},
   "outputs": [],
   "source": [
    "'''\n",
    "Deleting duplicated fmriprep outputs\n",
    "\n",
    "This script is used to delete subject folders that are in both:\n",
    "/fmriprep and /fmriprep/fmriprep, \n",
    "where the version of the subject folder in /fmriprep has incomplete anat and/or func\n",
    "'''"
   ]
  },
  {
   "cell_type": "code",
   "execution_count": 1,
   "metadata": {},
   "outputs": [],
   "source": [
    "import os"
   ]
  },
  {
   "cell_type": "code",
   "execution_count": 2,
   "metadata": {},
   "outputs": [],
   "source": [
    "# create a list of subject folder names in /fmriprep/fmriprep\n",
    "base_dir = '/scratch/a/arisvoin/clarasun/SCanD_project_PNC/data/local/fmriprep/fmriprep'\n",
    "\n",
    "# Initialize an empty list to store subject IDs\n",
    "subjects_list = []\n",
    "\n",
    "# Iterate through all the files in the specified path\n",
    "for entry in os.listdir(base_dir):\n",
    "    entry_path = os.path.join(base_dir, entry)\n",
    "    # Check if the entry is a directory and starts with 'sub-'\n",
    "    if os.path.isdir(entry_path) and entry.startswith('sub-'):\n",
    "        # append the subject folder name to the list\n",
    "        subjects_list.append(entry) "
   ]
  },
  {
   "cell_type": "code",
   "execution_count": 5,
   "metadata": {},
   "outputs": [
    {
     "data": {
      "text/plain": [
       "550"
      ]
     },
     "execution_count": 5,
     "metadata": {},
     "output_type": "execute_result"
    }
   ],
   "source": [
    "len(subjects_list) # check the number of subjects in the list\n",
    "# subjects_list # view the subject list"
   ]
  },
  {
   "cell_type": "code",
   "execution_count": 7,
   "metadata": {},
   "outputs": [],
   "source": [
    "import shutil"
   ]
  },
  {
   "cell_type": "code",
   "execution_count": 8,
   "metadata": {},
   "outputs": [],
   "source": [
    "# remove files in /fmriprep that are in subjects_list\n",
    "base_dir = '/scratch/a/arisvoin/clarasun/SCanD_project_PNC/data/local/fmriprep'\n",
    "\n",
    "# Iterate through all files in the specified path\n",
    "for entry in os.listdir(base_dir):\n",
    "    entry_path = os.path.join(base_dir, entry)\n",
    "    if os.path.isdir(entry_path) and entry.startswith('sub-'):\n",
    "        if entry in subjects_list:\n",
    "            full_path = os.path.join(base_dir, entry) # full path to the subject folder\n",
    "            shutil.rmtree(full_path) # Recursively remove the subject folder and its contents\n"
   ]
  },
  {
   "cell_type": "code",
   "execution_count": null,
   "metadata": {},
   "outputs": [],
   "source": [
    "# move files from /fmriprep/fmriprep to /fmriprep\n",
    "# DO THIS IN TERMINAL DIRECTLY - test on one participant first"
   ]
  },
  {
   "cell_type": "code",
   "execution_count": null,
   "metadata": {},
   "outputs": [],
   "source": [
    "'''\n",
    "Copy over fmriprep subject folders from /fmriprep/fmriprep to /fmriprep\n",
    "'''"
   ]
  },
  {
   "cell_type": "code",
   "execution_count": 9,
   "metadata": {},
   "outputs": [],
   "source": [
    "# Define the source and destination directory paths\n",
    "source_dir = '/scratch/a/arisvoin/clarasun/SCanD_project_PNC/data/local/fmriprep/fmriprep'\n",
    "destination_dir = '/scratch/a/arisvoin/clarasun/SCanD_project_PNC/data/local/fmriprep'\n"
   ]
  },
  {
   "cell_type": "code",
   "execution_count": 10,
   "metadata": {},
   "outputs": [
    {
     "name": "stdout",
     "output_type": "stream",
     "text": [
      "Subject folders and their contents copied successfully!\n"
     ]
    }
   ],
   "source": [
    "# Iterate through all subject folders to be copied\n",
    "for subject in subjects_list: \n",
    "    source_path = os.path.join(source_dir, subject)\n",
    "    destination_path = os.path.join(destination_dir, subject)\n",
    "    \n",
    "    # Perform the recursive copy\n",
    "    shutil.copytree(source_path, destination_path)\n",
    "\n",
    "print(\"Subject folders and their contents copied successfully!\")"
   ]
  },
  {
   "cell_type": "code",
   "execution_count": null,
   "metadata": {},
   "outputs": [],
   "source": []
  }
 ],
 "metadata": {
  "kernelspec": {
   "display_name": "Python 3",
   "language": "python",
   "name": "python3"
  },
  "language_info": {
   "codemirror_mode": {
    "name": "ipython",
    "version": 3
   },
   "file_extension": ".py",
   "mimetype": "text/x-python",
   "name": "python",
   "nbconvert_exporter": "python",
   "pygments_lexer": "ipython3",
   "version": "3.8.5"
  }
 },
 "nbformat": 4,
 "nbformat_minor": 4
}
